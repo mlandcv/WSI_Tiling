{
 "cells": [
  {
   "cell_type": "code",
   "execution_count": 1,
   "metadata": {},
   "outputs": [],
   "source": [
    "import bioformats\n",
    "import os\n",
    "from pathlib import Path\n",
    "\n",
    "from imageutils import gen_patches\n",
    "\n",
    "ip_folder = Path(r'//home//hn33//wsi//input//')\n",
    "op_folder = Path(r'//home//hn33//wsi//output//')\n",
    "\n",
    "if not os.path.exists('output'):\n",
    "    os.makedirs('output')\n",
    "\n",
    "train_per_class = 80000         # Target number of training patches per class.\n",
    "workers = 8                     # Number of workers to use for IO\n",
    "patch = 224                     # Size of the patches extracted from the WSI\n",
    "purple_thresh = 100             # Number of purple points for region to be considered purple\n",
    "purple_scale = 15               # Scalar to use for reducing image to check for purple\n",
    "extension = \"jpg\"               # Image extension for saving patches\n",
    "filter_white = True             # Only look for purple histopathology images and filter whitespace\n",
    "bioformat_series = 4\n",
    "inverse_overlap_factors=1\n",
    "by_folders = False\n",
    "input_image_extension = \"svs\"   # Only svs and czi till now"
   ]
  },
  {
   "cell_type": "code",
   "execution_count": 2,
   "metadata": {},
   "outputs": [
    {
     "name": "stdout",
     "output_type": "stream",
     "text": [
      "\n",
      "getting small crops from 10 images in //home/hn33/wsi/input with inverse overlap factor 1.00 outputting in //home/hn33/wsi/output\n",
      "image_locs [PosixPath('LeicaAT2_0.svs'), PosixPath('LeicaAT2_1.svs'), PosixPath('LeicaAT2_2.svs'), PosixPath('LeicaAT2_3.svs'), PosixPath('LeicaAT2_4.svs'), PosixPath('LeicaAT2_5.svs'), PosixPath('LeicaAT2_6.svs'), PosixPath('LeicaAT2_7.svs'), PosixPath('LeicaAT2_8.svs'), PosixPath('LeicaAT2_9.svs')]\n",
      "image_locs type <class 'list'>\n",
      "image_loc= LeicaAT2_0.svs\n",
      "image type before raw array= <class 'imageio.core.util.Array'>\n",
      "image shape before raw array= (42300, 41832, 3)\n",
      "after np and stuff img_np <class 'numpy.ndarray'> (42300, 41832, 3)\n",
      "image_loc= LeicaAT2_1.svs\n",
      "image type before raw array= <class 'imageio.core.util.Array'>\n",
      "image shape before raw array= (41426, 49799, 3)\n",
      "after np and stuff img_np <class 'numpy.ndarray'> (41426, 49799, 3)\n",
      "image_loc= LeicaAT2_2.svs\n",
      "image type before raw array= <class 'imageio.core.util.Array'>\n",
      "image shape before raw array= (31446, 47807, 3)\n",
      "after np and stuff img_np <class 'numpy.ndarray'> (31446, 47807, 3)\n",
      "image_loc= LeicaAT2_3.svs\n",
      "image type before raw array= <class 'imageio.core.util.Array'>\n",
      "image shape before raw array= (40424, 43824, 3)\n",
      "after np and stuff img_np <class 'numpy.ndarray'> (40424, 43824, 3)\n"
     ]
    }
   ],
   "source": [
    "gen_patches(input_folder=ip_folder,\n",
    "                  output_folder=op_folder,\n",
    "                  num_workers=workers,\n",
    "                  patch_size=patch,\n",
    "                  purple_threshold=purple_thresh,\n",
    "                  purple_scale_size=purple_scale,\n",
    "                  by_folder = by_folders,\n",
    "                  inverse_overlap_factor= inverse_overlap_factors,\n",
    "                  image_ext=extension,\n",
    "                  series=bioformat_series,\n",
    "                  ip_image_ext = input_image_extension,\n",
    "                  type_histopath=filter_white)"
   ]
  },
  {
   "cell_type": "code",
   "execution_count": null,
   "metadata": {},
   "outputs": [],
   "source": []
  }
 ],
 "metadata": {
  "interpreter": {
   "hash": "cb3e24e5d37f51e937b06cfb741bcf252153887c8c246d983fc00a2b6eb62146"
  },
  "kernelspec": {
   "display_name": "Python 3",
   "language": "python",
   "name": "python3"
  },
  "language_info": {
   "codemirror_mode": {
    "name": "ipython",
    "version": 3
   },
   "file_extension": ".py",
   "mimetype": "text/x-python",
   "name": "python",
   "nbconvert_exporter": "python",
   "pygments_lexer": "ipython3",
   "version": "3.8.8"
  }
 },
 "nbformat": 4,
 "nbformat_minor": 2
}
